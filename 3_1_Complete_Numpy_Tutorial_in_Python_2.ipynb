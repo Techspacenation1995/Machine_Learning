{
  "nbformat": 4,
  "nbformat_minor": 0,
  "metadata": {
    "colab": {
      "provenance": [],
      "authorship_tag": "ABX9TyO09mvmVbrZcj/3LWF3sHUa",
      "include_colab_link": true
    },
    "kernelspec": {
      "name": "python3",
      "display_name": "Python 3"
    },
    "language_info": {
      "name": "python"
    }
  },
  "cells": [
    {
      "cell_type": "markdown",
      "metadata": {
        "id": "view-in-github",
        "colab_type": "text"
      },
      "source": [
        "<a href=\"https://colab.research.google.com/github/Techspacenation1995/Machine_Learning/blob/main/3_1_Complete_Numpy_Tutorial_in_Python_2.ipynb\" target=\"_parent\"><img src=\"https://colab.research.google.com/assets/colab-badge.svg\" alt=\"Open In Colab\"/></a>"
      ]
    },
    {
      "cell_type": "markdown",
      "source": [
        "#dtype\n",
        "\n",
        "The desired data-type for the array. If not given, then the type will be determined as the minimum type required to hold the object in the sequence."
      ],
      "metadata": {
        "id": "MUbRr1oWmEPZ"
      }
    },
    {
      "cell_type": "code",
      "source": [
        "import numpy as np"
      ],
      "metadata": {
        "id": "VHxKqeJTmwFd"
      },
      "execution_count": null,
      "outputs": []
    },
    {
      "cell_type": "code",
      "execution_count": null,
      "metadata": {
        "colab": {
          "base_uri": "https://localhost:8080/"
        },
        "id": "Uh7a5Q0Xlrpv",
        "outputId": "de737af4-e3e2-4475-aca6-9a0d43a7b4ad"
      },
      "outputs": [
        {
          "output_type": "execute_result",
          "data": {
            "text/plain": [
              "array([11., 23., 44.], dtype=float32)"
            ]
          },
          "metadata": {},
          "execution_count": 3
        }
      ],
      "source": [
        "np.array([11, 23, 44], dtype='f') # We can alternatively use dtype = float"
      ]
    },
    {
      "cell_type": "code",
      "source": [
        "np.array([11, 23, 44], dtype='i')"
      ],
      "metadata": {
        "colab": {
          "base_uri": "https://localhost:8080/"
        },
        "id": "dfsAxMW7msU2",
        "outputId": "ca434166-3c7e-40df-b284-009ac3b9b719"
      },
      "execution_count": null,
      "outputs": [
        {
          "output_type": "execute_result",
          "data": {
            "text/plain": [
              "array([11, 23, 44], dtype=int32)"
            ]
          },
          "metadata": {},
          "execution_count": 4
        }
      ]
    },
    {
      "cell_type": "code",
      "source": [
        "np.array([11, 23, 44], dtype='U')"
      ],
      "metadata": {
        "colab": {
          "base_uri": "https://localhost:8080/"
        },
        "id": "YYcROIglnFc_",
        "outputId": "7aee85ab-e29f-4056-b074-af1e4e05bcfe"
      },
      "execution_count": null,
      "outputs": [
        {
          "output_type": "execute_result",
          "data": {
            "text/plain": [
              "array(['11', '23', '44'], dtype='<U2')"
            ]
          },
          "metadata": {},
          "execution_count": 5
        }
      ]
    },
    {
      "cell_type": "code",
      "source": [
        "np.array([11, 23, 44], dtype='S')"
      ],
      "metadata": {
        "colab": {
          "base_uri": "https://localhost:8080/"
        },
        "id": "uZVrx0i7nINF",
        "outputId": "50be6101-4d5a-4676-d402-8552167da9d0"
      },
      "execution_count": null,
      "outputs": [
        {
          "output_type": "execute_result",
          "data": {
            "text/plain": [
              "array([b'11', b'23', b'44'], dtype='|S2')"
            ]
          },
          "metadata": {},
          "execution_count": 6
        }
      ]
    },
    {
      "cell_type": "code",
      "source": [
        "np.array([11, 23, 44], dtype='O')"
      ],
      "metadata": {
        "colab": {
          "base_uri": "https://localhost:8080/"
        },
        "id": "zqYUtA_DnLQJ",
        "outputId": "d4c0ba8d-822e-4144-9bff-74b773ba238e"
      },
      "execution_count": null,
      "outputs": [
        {
          "output_type": "execute_result",
          "data": {
            "text/plain": [
              "array([11, 23, 44], dtype=object)"
            ]
          },
          "metadata": {},
          "execution_count": 7
        }
      ]
    },
    {
      "cell_type": "code",
      "source": [
        "np.array([11, 23, 44], dtype= bool)"
      ],
      "metadata": {
        "colab": {
          "base_uri": "https://localhost:8080/"
        },
        "id": "YBnbiNSGnQiK",
        "outputId": "638e98b4-b88f-4511-8192-2cfe99969377"
      },
      "execution_count": null,
      "outputs": [
        {
          "output_type": "execute_result",
          "data": {
            "text/plain": [
              "array([ True,  True,  True])"
            ]
          },
          "metadata": {},
          "execution_count": 9
        }
      ]
    },
    {
      "cell_type": "code",
      "source": [
        "np.array([11, 23, 44], dtype= complex)"
      ],
      "metadata": {
        "colab": {
          "base_uri": "https://localhost:8080/"
        },
        "id": "5vQw-_zVnhsh",
        "outputId": "08fee94b-922a-47e9-c6a2-5506fae516af"
      },
      "execution_count": null,
      "outputs": [
        {
          "output_type": "execute_result",
          "data": {
            "text/plain": [
              "array([11.+0.j, 23.+0.j, 44.+0.j])"
            ]
          },
          "metadata": {},
          "execution_count": 10
        }
      ]
    },
    {
      "cell_type": "markdown",
      "source": [
        "#Arange\n",
        "\n",
        "**np.arange()** is a function in NumPy used to create arrays with evenly spaced values within a specified range. It's similar to Python's built-in **range()** but returns a NumPy array instead of a list, and supports float steps.\n",
        "\n",
        "**Syntax**\n",
        "\n",
        "numpy.arange([start,] stop[, step], dtype=None)\n",
        "\n",
        "\n",
        "**Parameters**\n",
        "\n",
        "\n",
        "start (optional): Start of interval (inclusive). Defaults to 0.\n",
        "\n",
        "stop: End of interval (exclusive).\n",
        "\n",
        "step (optional): Spacing between values. Defaults to 1.\n",
        "\n",
        "dtype (optional): The type of the output array."
      ],
      "metadata": {
        "id": "aAaY14gdrFKC"
      }
    },
    {
      "cell_type": "code",
      "source": [
        "#  Basic usage\n",
        "\n",
        "import numpy as np\n",
        "\n",
        "arr = np.arange(5)\n",
        "print(arr)  # Output: [0 1 2 3 4]"
      ],
      "metadata": {
        "colab": {
          "base_uri": "https://localhost:8080/"
        },
        "id": "_R1skjGcnjc8",
        "outputId": "6e7028e3-def4-4253-80b3-e1b4970a070d"
      },
      "execution_count": null,
      "outputs": [
        {
          "output_type": "stream",
          "name": "stdout",
          "text": [
            "[0 1 2 3 4]\n"
          ]
        }
      ]
    },
    {
      "cell_type": "code",
      "source": [
        "# With start and stop\n",
        "\n",
        "arr = np.arange(2, 10)\n",
        "print(arr)  # Output: [2 3 4 5 6 7 8 9]"
      ],
      "metadata": {
        "colab": {
          "base_uri": "https://localhost:8080/"
        },
        "id": "lwVDnRhlsGPN",
        "outputId": "d404cdfd-5416-472b-94df-f26520535a36"
      },
      "execution_count": null,
      "outputs": [
        {
          "output_type": "stream",
          "name": "stdout",
          "text": [
            "[2 3 4 5 6 7 8 9]\n"
          ]
        }
      ]
    },
    {
      "cell_type": "code",
      "source": [
        "# With step\n",
        "\n",
        "arr = np.arange(1, 10, 2)\n",
        "print(arr)  # Output: [1 3 5 7 9]"
      ],
      "metadata": {
        "colab": {
          "base_uri": "https://localhost:8080/"
        },
        "id": "p3wqrQfesS9w",
        "outputId": "9900c021-58f2-4c2f-d6a7-2cd0c43036cd"
      },
      "execution_count": null,
      "outputs": [
        {
          "output_type": "stream",
          "name": "stdout",
          "text": [
            "[1 3 5 7 9]\n"
          ]
        }
      ]
    },
    {
      "cell_type": "code",
      "source": [
        "# With float step\n",
        "\n",
        "arr = np.arange(0, 1, 0.2)\n",
        "print(arr)"
      ],
      "metadata": {
        "colab": {
          "base_uri": "https://localhost:8080/"
        },
        "id": "4C59jcRQt6Nh",
        "outputId": "797abc73-53e1-475a-b416-659a3d951e85"
      },
      "execution_count": null,
      "outputs": [
        {
          "output_type": "stream",
          "name": "stdout",
          "text": [
            "[0.  0.2 0.4 0.6 0.8]\n"
          ]
        }
      ]
    },
    {
      "cell_type": "code",
      "source": [
        "# Specifying dtype\n",
        "\n",
        "arr = np.arange(1, 5, dtype='f')\n",
        "print(arr)"
      ],
      "metadata": {
        "colab": {
          "base_uri": "https://localhost:8080/"
        },
        "id": "0eqm9vQcuEsO",
        "outputId": "bfd79cba-e652-447b-bed1-b5d1f3e88c24"
      },
      "execution_count": null,
      "outputs": [
        {
          "output_type": "stream",
          "name": "stdout",
          "text": [
            "[1. 2. 3. 4.]\n"
          ]
        }
      ]
    },
    {
      "cell_type": "markdown",
      "source": [
        "#Reshape\n",
        "\n",
        "np.reshape() in NumPy is used to change the shape of an array without changing its data. It returns a new view (or sometimes a copy) of the original array with the specified shape.\n",
        "\n",
        "**Syntax**\n",
        "\n",
        "numpy.reshape(a, newshape)\n",
        "\n",
        "\n",
        "a: The array to reshape.\n",
        "\n",
        "newshape: Tuple defining the new shape. One dimension can be -1, which means \"infer this dimension automatically\"."
      ],
      "metadata": {
        "id": "WKZJb9dsuy3e"
      }
    },
    {
      "cell_type": "code",
      "source": [
        "# Reshape 1D array to 2D\n",
        "\n",
        "import numpy as np\n",
        "\n",
        "arr = np.arange(6)\n",
        "print(arr)\n",
        "reshaped = np.reshape(arr, (2, 3))\n",
        "print(reshaped)\n",
        "# Output:\n",
        "# [[0 1 2]\n",
        "#  [3 4 5]]"
      ],
      "metadata": {
        "colab": {
          "base_uri": "https://localhost:8080/"
        },
        "id": "7BQ3tnOguYj8",
        "outputId": "96a7e48f-ec57-4102-cac4-442e6d667bbb"
      },
      "execution_count": null,
      "outputs": [
        {
          "output_type": "stream",
          "name": "stdout",
          "text": [
            "[0 1 2 3 4 5]\n",
            "[[0 1 2]\n",
            " [3 4 5]]\n"
          ]
        }
      ]
    },
    {
      "cell_type": "code",
      "source": [
        "# Using -1 to infer dimension\n",
        "\n",
        "arr = np.arange(6)\n",
        "print(arr)\n",
        "reshaped = np.reshape(arr, (2, -1))\n",
        "print(reshaped)\n",
        "# Output:\n",
        "# [[0 1 2]\n",
        "#  [3 4 5]]\n"
      ],
      "metadata": {
        "id": "oqr6Ag_izrIJ",
        "colab": {
          "base_uri": "https://localhost:8080/"
        },
        "outputId": "6efd61b0-df71-4e89-ef4d-c5b11dd4166a"
      },
      "execution_count": null,
      "outputs": [
        {
          "output_type": "stream",
          "name": "stdout",
          "text": [
            "[0 1 2 3 4 5]\n",
            "[[0 1 2]\n",
            " [3 4 5]]\n"
          ]
        }
      ]
    },
    {
      "cell_type": "markdown",
      "source": [
        "In NumPy, when you pass -1 as one of the dimensions in .reshape(), you're telling NumPy:\n",
        "\n",
        "“Hey, you figure out this dimension for me, based on the size of the array and the other dimensions I’ve given.”\n",
        "\n",
        "NumPy will automatically calculate the value that makes the reshape possible, without changing the total number of elements."
      ],
      "metadata": {
        "id": "iduGfXAq3NEt"
      }
    },
    {
      "cell_type": "code",
      "source": [
        "# Reshape 2D to 1D\n",
        "\n",
        "arr = np.array([[1, 2], [3, 4]])\n",
        "print(arr)\n",
        "flat = arr.reshape(-1)\n",
        "print(flat)\n",
        "# Output: [1 2 3 4]"
      ],
      "metadata": {
        "colab": {
          "base_uri": "https://localhost:8080/"
        },
        "id": "hfV_fww42AI_",
        "outputId": "6abb56f6-a020-4ecf-a692-ec665ac8596a"
      },
      "execution_count": null,
      "outputs": [
        {
          "output_type": "stream",
          "name": "stdout",
          "text": [
            "[[1 2]\n",
            " [3 4]]\n",
            "[1 2 3 4]\n"
          ]
        }
      ]
    },
    {
      "cell_type": "markdown",
      "source": [
        "This is a 2D array with shape (2, 2) — meaning 2 rows and 2 columns.\n",
        "\n",
        "Total elements = 2 × 2 = 4\n",
        "\n",
        "You're telling NumPy:\n",
        "\n",
        "“Flatten this array into a 1D array, and you figure out how many elements go in it.”\n",
        "\n",
        "Since the total number of elements is 4, NumPy reshapes it to: [1, 2, 3, 4]"
      ],
      "metadata": {
        "id": "ACFw2aa_4Ir-"
      }
    },
    {
      "cell_type": "code",
      "source": [
        "# 3D Reshape\n",
        "\n",
        "arr = np.arange(12)\n",
        "print(arr)\n",
        "reshaped = arr.reshape((2, 3, 2))\n",
        "print(reshaped)"
      ],
      "metadata": {
        "colab": {
          "base_uri": "https://localhost:8080/"
        },
        "id": "U2SeIIFq2vP-",
        "outputId": "2e8bab2d-b4fa-41cc-e085-9be5b891f5bb"
      },
      "execution_count": null,
      "outputs": [
        {
          "output_type": "stream",
          "name": "stdout",
          "text": [
            "[ 0  1  2  3  4  5  6  7  8  9 10 11]\n",
            "[[[ 0  1]\n",
            "  [ 2  3]\n",
            "  [ 4  5]]\n",
            "\n",
            " [[ 6  7]\n",
            "  [ 8  9]\n",
            "  [10 11]]]\n"
          ]
        }
      ]
    },
    {
      "cell_type": "code",
      "source": [],
      "metadata": {
        "id": "SBstyb9T5_d_"
      },
      "execution_count": null,
      "outputs": []
    },
    {
      "cell_type": "markdown",
      "source": [
        "#np.zeros() — All Zeros\n",
        "\n",
        "**USES**\n",
        "\n",
        "Create an array filled with zeros.\n",
        "\n",
        " **Syntax:**\n",
        "\n",
        " np.zeros(shape, dtype=float)"
      ],
      "metadata": {
        "id": "xi0NQxsLBhDo"
      }
    },
    {
      "cell_type": "code",
      "source": [
        "import numpy as np\n",
        "\n",
        "zero_arrays = np.zeros((2,3))\n",
        "print(zero_arrays)"
      ],
      "metadata": {
        "colab": {
          "base_uri": "https://localhost:8080/"
        },
        "id": "BgKS9tWRrkuh",
        "outputId": "75c06a24-b22e-4d48-aef2-19e779ba3005"
      },
      "execution_count": null,
      "outputs": [
        {
          "output_type": "stream",
          "name": "stdout",
          "text": [
            "[[0. 0. 0.]\n",
            " [0. 0. 0.]]\n"
          ]
        }
      ]
    },
    {
      "cell_type": "markdown",
      "source": [
        "#np.ones() - All ones\n",
        "\n",
        "**USES**\n",
        "\n",
        "Create an array filled with ones.\n",
        "\n",
        "**Syntax:**\n",
        "\n",
        "np.ones(shape, dtype=float)"
      ],
      "metadata": {
        "id": "ZfkKk2nhr_Yb"
      }
    },
    {
      "cell_type": "code",
      "source": [
        "ones_array = np.ones((2, 3))\n",
        "print(ones_array)"
      ],
      "metadata": {
        "colab": {
          "base_uri": "https://localhost:8080/"
        },
        "id": "vLyuWbwyr2AY",
        "outputId": "bcff99b8-578f-4109-9f58-3aac5d007c9b"
      },
      "execution_count": null,
      "outputs": [
        {
          "output_type": "stream",
          "name": "stdout",
          "text": [
            "[[1. 1. 1.]\n",
            " [1. 1. 1.]]\n"
          ]
        }
      ]
    },
    {
      "cell_type": "markdown",
      "source": [
        "**Common Parameters:**\n",
        "\n",
        "**shape:** Tuple specifying the shape (e.g., (3, 4) for 3x4)\n",
        "\n",
        "**dtype:** Optional, like int, float, etc."
      ],
      "metadata": {
        "id": "SFxMg5NvsgCb"
      }
    },
    {
      "cell_type": "markdown",
      "source": [
        "#What is np.linspace()\n",
        "\n",
        "np.linspace() generates a specified number of evenly spaced values between a start and stop value.\n",
        "\n",
        "**Syntax:**\n",
        "\n",
        "numpy.linspace(start, stop, num=50, endpoint=True, dtype=None)\n",
        "\n",
        "**Parameters:**\n",
        "\n",
        "start: The starting value of the sequence.\n",
        "\n",
        "stop: The ending value of the sequence.\n",
        "\n",
        "num: (Optional) Number of samples to generate. Default is 50.\n",
        "\n",
        "endpoint: (Optional) If True (default), include the stop value. If False, exclude it.\n",
        "\n",
        "dtype: (Optional) Data type of the output array."
      ],
      "metadata": {
        "id": "gEehxWAE0itp"
      }
    },
    {
      "cell_type": "code",
      "source": [
        "# Basic Use\n",
        "\n",
        "import numpy as np\n",
        "\n",
        "arr = np.linspace(0, 10, 5)\n",
        "print(arr)\n"
      ],
      "metadata": {
        "colab": {
          "base_uri": "https://localhost:8080/"
        },
        "id": "O8rNw1zYsbPW",
        "outputId": "4f2cf7b6-5d04-431b-89d9-1ca0913f7de7"
      },
      "execution_count": null,
      "outputs": [
        {
          "output_type": "stream",
          "name": "stdout",
          "text": [
            "[ 0.   2.5  5.   7.5 10. ]\n"
          ]
        }
      ]
    },
    {
      "cell_type": "code",
      "source": [
        "# Excluding endpoint\n",
        "\n",
        "arr = np.linspace(0, 10, 5, endpoint=False)\n",
        "print(arr)"
      ],
      "metadata": {
        "colab": {
          "base_uri": "https://localhost:8080/"
        },
        "id": "LibObRSQ14OB",
        "outputId": "3000c0e7-03de-4ff8-ef44-21fe29a7cfa3"
      },
      "execution_count": null,
      "outputs": [
        {
          "output_type": "stream",
          "name": "stdout",
          "text": [
            "[0. 2. 4. 6. 8.]\n"
          ]
        }
      ]
    },
    {
      "cell_type": "code",
      "source": [
        "#  Used with integer(Forced dtype)\n",
        "\n",
        "arr = np.linspace(0, 10, 5, dtype=int)\n",
        "print(arr)"
      ],
      "metadata": {
        "colab": {
          "base_uri": "https://localhost:8080/"
        },
        "id": "HLebLV-L2IdT",
        "outputId": "de3a820d-38a1-40e8-a389-ecc33bfd7fca"
      },
      "execution_count": null,
      "outputs": [
        {
          "output_type": "stream",
          "name": "stdout",
          "text": [
            "[ 0  2  5  7 10]\n"
          ]
        }
      ]
    },
    {
      "cell_type": "markdown",
      "source": [
        "When to use linspace() vs arange()\n",
        "\n",
        "Use Case\tUse\n",
        "\n",
        "You know the step size\t       ------             np.arange()\n",
        "\n",
        "You know the number of points\t  -----            np.linspace()\n",
        "\n",
        "You need precise spacing with floats -------\tPrefer linspace() (more reliable)"
      ],
      "metadata": {
        "id": "TZ1RwZ6j22rg"
      }
    },
    {
      "cell_type": "markdown",
      "source": [
        "#Identity Matrix\n",
        "\n",
        "An identity matrix is a square matrix (same number of rows and columns) with:\n",
        "\n",
        "* All 1s on the diagonal (from top-left to bottom-right)\n",
        "\n",
        "* All other elements are 0\n",
        "\n",
        "\n",
        "**Syntax in NumPy:**\n",
        "\n",
        "np.identity(n, dtype=float)\n",
        "\n",
        "* n: The number of rows and columns (since it's square)\n",
        "* dtype: (optional) Data type (like int or float)\n",
        "\n"
      ],
      "metadata": {
        "id": "wM_RiBWa-li8"
      }
    },
    {
      "cell_type": "code",
      "source": [
        "I = np.identity(3)\n",
        "print(I)"
      ],
      "metadata": {
        "colab": {
          "base_uri": "https://localhost:8080/"
        },
        "id": "NhKsviQl2Ukh",
        "outputId": "271dbe43-bf19-4cc4-ac5b-3ed2e479721d"
      },
      "execution_count": null,
      "outputs": [
        {
          "output_type": "stream",
          "name": "stdout",
          "text": [
            "[[1. 0. 0.]\n",
            " [0. 1. 0.]\n",
            " [0. 0. 1.]]\n"
          ]
        }
      ]
    },
    {
      "cell_type": "code",
      "source": [
        "I = np.identity(3, dtype=int)\n",
        "print(I)"
      ],
      "metadata": {
        "colab": {
          "base_uri": "https://localhost:8080/"
        },
        "id": "-8hPhG1h_aO-",
        "outputId": "5506bd1a-6d03-4258-8a95-93f55bdffe95"
      },
      "execution_count": null,
      "outputs": [
        {
          "output_type": "stream",
          "name": "stdout",
          "text": [
            "[[1 0 0]\n",
            " [0 1 0]\n",
            " [0 0 1]]\n"
          ]
        }
      ]
    },
    {
      "cell_type": "markdown",
      "source": [
        "Why is it important?\n",
        "\n",
        "* Used in linear algebra and matrix operations\n",
        "\n",
        "* Acts like the “do nothing” matrix during multiplication\n",
        "\n",
        "* Helps in solving equations, finding inverses, and understanding transformations"
      ],
      "metadata": {
        "id": "xbImIINP_o-y"
      }
    },
    {
      "cell_type": "markdown",
      "source": [
        "Let's compare np.identity() vs np.eye() — they both create matrices with 1s on a diagonal, but they serve slightly different purposes.\n",
        "\n",
        "\n",
        "**np.identity(n)**\n",
        "\n",
        "Creates a square identity matrix.\n",
        "\n",
        "Only one parameter: the size (n x n).\n",
        "\n",
        "Diagonal of 1s from top-left to bottom-right.\n",
        "\n",
        "Always starts on the main diagonal (no shifting).\n",
        "\n",
        "\n",
        "**np.eye(N, M=None, k=0)**\n",
        "\n",
        "More flexible than identity().\n",
        "\n",
        "Can create non-square matrices.\n",
        "\n",
        "You can shift the diagonal using k:\n",
        "\n",
        "k=0: main diagonal\n",
        "\n",
        "k=1: one above the main\n",
        "\n",
        "k=-1: one below the main"
      ],
      "metadata": {
        "id": "yK4lm0GTA-S6"
      }
    },
    {
      "cell_type": "code",
      "source": [
        "print(np.eye(3))"
      ],
      "metadata": {
        "colab": {
          "base_uri": "https://localhost:8080/"
        },
        "id": "zm63ZFJl_fp4",
        "outputId": "51d75ecd-aae8-470d-f338-5a6d965318f1"
      },
      "execution_count": null,
      "outputs": [
        {
          "output_type": "stream",
          "name": "stdout",
          "text": [
            "[[1. 0. 0.]\n",
            " [0. 1. 0.]\n",
            " [0. 0. 1.]]\n"
          ]
        }
      ]
    },
    {
      "cell_type": "code",
      "source": [
        "# For non square matrix\n",
        "\n",
        "print(np.eye(3, 4))"
      ],
      "metadata": {
        "colab": {
          "base_uri": "https://localhost:8080/"
        },
        "id": "JqsQvqQbCZ1g",
        "outputId": "3f851bff-cf1c-43dd-c1d4-fb9538098e56"
      },
      "execution_count": null,
      "outputs": [
        {
          "output_type": "stream",
          "name": "stdout",
          "text": [
            "[[1. 0. 0. 0.]\n",
            " [0. 1. 0. 0.]\n",
            " [0. 0. 1. 0.]]\n"
          ]
        }
      ]
    },
    {
      "cell_type": "code",
      "source": [
        "# For shifted diagonal matrix (k = 1)\n",
        "\n",
        "print(np.eye(3, 4, k=1))"
      ],
      "metadata": {
        "colab": {
          "base_uri": "https://localhost:8080/"
        },
        "id": "VVqCAQyoCe6f",
        "outputId": "fe68fcfd-eea1-48bc-ab1b-432ceef92b23"
      },
      "execution_count": null,
      "outputs": [
        {
          "output_type": "stream",
          "name": "stdout",
          "text": [
            "[[0. 1. 0. 0.]\n",
            " [0. 0. 1. 0.]\n",
            " [0. 0. 0. 1.]]\n"
          ]
        }
      ]
    },
    {
      "cell_type": "code",
      "source": [
        "# For shifted diagonal matrix (k = -1)\n",
        "\n",
        "print(np.eye(3, 4, k=-1))"
      ],
      "metadata": {
        "colab": {
          "base_uri": "https://localhost:8080/"
        },
        "id": "zr2dRsgpClMM",
        "outputId": "22df5e5e-8a0e-44d1-bb18-9d07580297e5"
      },
      "execution_count": null,
      "outputs": [
        {
          "output_type": "stream",
          "name": "stdout",
          "text": [
            "[[0. 0. 0. 0.]\n",
            " [1. 0. 0. 0.]\n",
            " [0. 1. 0. 0.]]\n"
          ]
        }
      ]
    },
    {
      "cell_type": "markdown",
      "source": [
        "**Summary**\n",
        "\n",
        "|Features| np.identity()| np.eye()|\n",
        "|---|---|---|\n",
        "|Shape| Always square in nature (nxn)| Can be rectangular (N x M)|\n",
        "|Diagonal Shift| No | Yes, with k *prameter*|\n",
        "|Simplicity| simpler for identity| Mor flexible for variations|"
      ],
      "metadata": {
        "id": "2U0pmtTuFPNY"
      }
    },
    {
      "cell_type": "markdown",
      "source": [
        "#ARRAY ATTRIBUTES\n",
        "\n",
        "Let's do a deep dive into the different attributes of NumPy arrays. These attributes help you understand and work with the structure and properties of arrays effectively."
      ],
      "metadata": {
        "id": "YJQCcYHrHkbL"
      }
    },
    {
      "cell_type": "code",
      "source": [
        "import numpy as np\n",
        "\n",
        "arr = np.array([[1, 2, 3],\n",
        "                [4, 5, 6]])"
      ],
      "metadata": {
        "id": "pj6zsS1ECvwx"
      },
      "execution_count": null,
      "outputs": []
    },
    {
      "cell_type": "markdown",
      "source": [
        "#1. arr.ndim --> Number of dimensions"
      ],
      "metadata": {
        "id": "Q5WaNLxkH6pY"
      }
    },
    {
      "cell_type": "code",
      "source": [
        "arr.ndim # This means its a two dimensional array"
      ],
      "metadata": {
        "colab": {
          "base_uri": "https://localhost:8080/"
        },
        "id": "YBn6TOG5H1Ig",
        "outputId": "ce208ef5-bb7a-4f44-fc43-52e58bd753a8"
      },
      "execution_count": null,
      "outputs": [
        {
          "output_type": "execute_result",
          "data": {
            "text/plain": [
              "2"
            ]
          },
          "metadata": {},
          "execution_count": 15
        }
      ]
    },
    {
      "cell_type": "markdown",
      "source": [
        "#2. arr.shape --> Shape of the array\n",
        "\n"
      ],
      "metadata": {
        "id": "h7kM9zP-IZZr"
      }
    },
    {
      "cell_type": "code",
      "source": [
        "arr.shape # Displays the number of rows and columns"
      ],
      "metadata": {
        "colab": {
          "base_uri": "https://localhost:8080/"
        },
        "id": "cbdbBuCvIJdi",
        "outputId": "ac1ae1bf-e899-4256-bf27-cea401428af5"
      },
      "execution_count": null,
      "outputs": [
        {
          "output_type": "execute_result",
          "data": {
            "text/plain": [
              "(2, 3)"
            ]
          },
          "metadata": {},
          "execution_count": 16
        }
      ]
    },
    {
      "cell_type": "markdown",
      "source": [
        "#3. arr.size --> Total number of elements\n",
        "\n",
        "Helps us determine the total number of element in the array"
      ],
      "metadata": {
        "id": "sK9wOlUfI2bg"
      }
    },
    {
      "cell_type": "code",
      "source": [
        "arr.size # It can also be gotten by multiplying the number of rows and arrows"
      ],
      "metadata": {
        "colab": {
          "base_uri": "https://localhost:8080/"
        },
        "id": "SvsC7Ml5Iy2y",
        "outputId": "9e3db5a7-58d8-4886-b1a9-2c14564dccc8"
      },
      "execution_count": null,
      "outputs": [
        {
          "output_type": "execute_result",
          "data": {
            "text/plain": [
              "6"
            ]
          },
          "metadata": {},
          "execution_count": 18
        }
      ]
    },
    {
      "cell_type": "markdown",
      "source": [
        "#4. arr.dtype - Data type of each elements"
      ],
      "metadata": {
        "id": "Ty0NYBhnKRRr"
      }
    },
    {
      "cell_type": "code",
      "source": [
        "arr.dtype"
      ],
      "metadata": {
        "colab": {
          "base_uri": "https://localhost:8080/"
        },
        "id": "ooYioEPVJDTj",
        "outputId": "e650ed5d-57a5-4490-91d8-d8a866ec5a53"
      },
      "execution_count": null,
      "outputs": [
        {
          "output_type": "execute_result",
          "data": {
            "text/plain": [
              "dtype('int64')"
            ]
          },
          "metadata": {},
          "execution_count": 19
        }
      ]
    },
    {
      "cell_type": "markdown",
      "source": [
        "#5. arr.itemsize → Size in bytes of one array element"
      ],
      "metadata": {
        "id": "4UthyDpNK_SB"
      }
    },
    {
      "cell_type": "code",
      "source": [
        "arr.itemsize # Output: 8  # for int64 (8 bytes)"
      ],
      "metadata": {
        "colab": {
          "base_uri": "https://localhost:8080/"
        },
        "id": "EV_-xAS6K6C1",
        "outputId": "9a4b8fa2-182b-470d-eeeb-3a146fc72fed"
      },
      "execution_count": null,
      "outputs": [
        {
          "output_type": "execute_result",
          "data": {
            "text/plain": [
              "8"
            ]
          },
          "metadata": {},
          "execution_count": 21
        }
      ]
    },
    {
      "cell_type": "markdown",
      "source": [
        "#6. arr.nbytes → Total memory used"
      ],
      "metadata": {
        "id": "F-qVEqjDLTDv"
      }
    },
    {
      "cell_type": "code",
      "source": [
        "arr.nbytes # Meaning: 6 elements × 8 bytes = 48 bytes used in memory."
      ],
      "metadata": {
        "colab": {
          "base_uri": "https://localhost:8080/"
        },
        "id": "BatIBHtjLFUw",
        "outputId": "527e0c54-84f3-435d-d35d-3108305c3b46"
      },
      "execution_count": null,
      "outputs": [
        {
          "output_type": "execute_result",
          "data": {
            "text/plain": [
              "48"
            ]
          },
          "metadata": {},
          "execution_count": 22
        }
      ]
    },
    {
      "cell_type": "markdown",
      "source": [
        "#7. arr.T → Transpose of the array"
      ],
      "metadata": {
        "id": "AOAbUbF3Lmy9"
      }
    },
    {
      "cell_type": "code",
      "source": [
        "arr.T # Swaps rows with columns — useful in matrix math."
      ],
      "metadata": {
        "colab": {
          "base_uri": "https://localhost:8080/"
        },
        "id": "ryGgupA5Lb_x",
        "outputId": "f82c46be-6ab9-42d9-9e25-89f0e7d6ed0b"
      },
      "execution_count": null,
      "outputs": [
        {
          "output_type": "execute_result",
          "data": {
            "text/plain": [
              "array([[1, 4],\n",
              "       [2, 5],\n",
              "       [3, 6]])"
            ]
          },
          "metadata": {},
          "execution_count": 23
        }
      ]
    },
    {
      "cell_type": "markdown",
      "source": [
        "#8. arr.flat → Iterator over flattened array"
      ],
      "metadata": {
        "id": "BQgWfBJEL-MW"
      }
    },
    {
      "cell_type": "code",
      "source": [
        "for item in arr.flat:\n",
        "    print(item, end=' ')  #Gives access to every element in a flat (1D) way."
      ],
      "metadata": {
        "colab": {
          "base_uri": "https://localhost:8080/"
        },
        "id": "WW0f1zBALrjB",
        "outputId": "1079e89a-8426-4bfb-eb22-e264490fa733"
      },
      "execution_count": null,
      "outputs": [
        {
          "output_type": "stream",
          "name": "stdout",
          "text": [
            "1 2 3 4 5 6 "
          ]
        }
      ]
    },
    {
      "cell_type": "markdown",
      "source": [
        "#9. arr.data → Memory buffer (advanced use)"
      ],
      "metadata": {
        "id": "bs6V5WxdMTqW"
      }
    },
    {
      "cell_type": "code",
      "source": [
        "arr.data"
      ],
      "metadata": {
        "colab": {
          "base_uri": "https://localhost:8080/"
        },
        "id": "1vAjSausMFoV",
        "outputId": "8c5f47db-30e8-4f87-f01f-18d5a771b2fd"
      },
      "execution_count": null,
      "outputs": [
        {
          "output_type": "execute_result",
          "data": {
            "text/plain": [
              "<memory at 0x7c371d155080>"
            ]
          },
          "metadata": {},
          "execution_count": 26
        }
      ]
    },
    {
      "cell_type": "markdown",
      "source": [
        "#Overall Summary\n",
        "\n",
        "|Attribute| Description|\n",
        "|---|---|\n",
        "|ndim| Number of dimensions (axes)|\n",
        "|shape| Tuple showing array size per axis|\n",
        "|size| Total number of elements|\n",
        "|dtype| data type of the element|\n",
        "|itemsize| Size (in bytes) of each element|\n",
        "|nbytes| Total memory size (in bytes)|\n",
        "|T|Transpose of the array|\n",
        "|flat|Flat iterator over all elements|\n",
        "|data| Memory buffer info|"
      ],
      "metadata": {
        "id": "iRlPkUtMMx2W"
      }
    },
    {
      "cell_type": "code",
      "source": [],
      "metadata": {
        "id": "9iKBFHJbMbV1"
      },
      "execution_count": null,
      "outputs": []
    }
  ]
}