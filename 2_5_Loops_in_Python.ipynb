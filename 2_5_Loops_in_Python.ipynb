{
  "nbformat": 4,
  "nbformat_minor": 0,
  "metadata": {
    "colab": {
      "provenance": [],
      "authorship_tag": "ABX9TyPQj9vw1Xeg2CcivZhfdPsm",
      "include_colab_link": true
    },
    "kernelspec": {
      "name": "python3",
      "display_name": "Python 3"
    },
    "language_info": {
      "name": "python"
    }
  },
  "cells": [
    {
      "cell_type": "markdown",
      "metadata": {
        "id": "view-in-github",
        "colab_type": "text"
      },
      "source": [
        "<a href=\"https://colab.research.google.com/github/Techspacenation1995/Machine_Learning/blob/main/2_5_Loops_in_Python.ipynb\" target=\"_parent\"><img src=\"https://colab.research.google.com/assets/colab-badge.svg\" alt=\"Open In Colab\"/></a>"
      ]
    },
    {
      "cell_type": "markdown",
      "source": [
        "#For Loop"
      ],
      "metadata": {
        "id": "cNCXsuv11znd"
      }
    },
    {
      "cell_type": "code",
      "execution_count": null,
      "metadata": {
        "colab": {
          "base_uri": "https://localhost:8080/"
        },
        "id": "UVzaUhEv1u1K",
        "outputId": "5aee6458-f008-41fe-8668-ff28ea57486d"
      },
      "outputs": [
        {
          "name": "stdout",
          "output_type": "stream",
          "text": [
            "Enter the name of laptop 1: 20000\n",
            "Enter the name of laptop 2: 30000\n",
            "Enter the name of laptop 3: 40000\n",
            "Enter the name of laptop 4: 50000\n",
            "Enter the name of laptop 5: 60000\n"
          ]
        }
      ],
      "source": [
        "laptop1 = int(input(\"Enter the name of laptop 1: \"))\n",
        "laptop2 = int(input(\"Enter the name of laptop 2: \"))\n",
        "laptop3 = int(input(\"Enter the name of laptop 3: \"))\n",
        "laptop4 = int(input(\"Enter the name of laptop 4: \"))\n",
        "laptop5 = int(input(\"Enter the name of laptop 5: \"))"
      ]
    },
    {
      "cell_type": "code",
      "source": [
        "for  i in range(5):\n",
        "    laptop_price = int(input(\"Enter the price of laptop: \"))"
      ],
      "metadata": {
        "colab": {
          "base_uri": "https://localhost:8080/"
        },
        "id": "cXcBfD6Y2Upe",
        "outputId": "0f79fff6-bc16-4b73-ea7e-17eec30911f7"
      },
      "execution_count": null,
      "outputs": [
        {
          "name": "stdout",
          "output_type": "stream",
          "text": [
            "Enter the price of laptop: 20000\n",
            "Enter the price of laptop: 30000\n",
            "Enter the price of laptop: 40000\n",
            "Enter the price of laptop: 50000\n",
            "Enter the price of laptop: 60000\n"
          ]
        }
      ]
    },
    {
      "cell_type": "code",
      "source": [
        "numbers = [50, 100, 150, 200]\n",
        "\n",
        "for i in numbers:\n",
        "    print(i)"
      ],
      "metadata": {
        "colab": {
          "base_uri": "https://localhost:8080/"
        },
        "id": "Zo519rjE2_vx",
        "outputId": "a8b17453-a4ff-4ab9-f414-ccbbff7d1032"
      },
      "execution_count": null,
      "outputs": [
        {
          "output_type": "stream",
          "name": "stdout",
          "text": [
            "50\n",
            "100\n",
            "150\n",
            "200\n"
          ]
        }
      ]
    },
    {
      "cell_type": "markdown",
      "source": [
        "#Why loop\n",
        "\n",
        "while condition:\n",
        "\n",
        "    statement"
      ],
      "metadata": {
        "id": "Asiqx4eS4Gd9"
      }
    },
    {
      "cell_type": "code",
      "source": [
        "i = 0\n",
        "\n",
        "while i < 10:\n",
        "    print(i + 1)\n",
        "    i += 1  # i = i + 1"
      ],
      "metadata": {
        "colab": {
          "base_uri": "https://localhost:8080/"
        },
        "id": "X_h-x3vv3_BM",
        "outputId": "0b83218e-34af-4e0c-9a90-888b7d22c413"
      },
      "execution_count": null,
      "outputs": [
        {
          "output_type": "stream",
          "name": "stdout",
          "text": [
            "1\n",
            "2\n",
            "3\n",
            "4\n",
            "5\n",
            "6\n",
            "7\n",
            "8\n",
            "9\n",
            "10\n"
          ]
        }
      ]
    },
    {
      "cell_type": "code",
      "source": [
        "i = 5\n",
        "\n",
        "while i < 3:\n",
        "    print(i)\n",
        "    i += 1"
      ],
      "metadata": {
        "id": "iXkE3rmz40on"
      },
      "execution_count": null,
      "outputs": []
    }
  ]
}