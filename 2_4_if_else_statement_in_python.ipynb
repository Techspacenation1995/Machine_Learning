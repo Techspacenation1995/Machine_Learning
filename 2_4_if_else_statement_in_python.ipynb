{
  "nbformat": 4,
  "nbformat_minor": 0,
  "metadata": {
    "colab": {
      "provenance": [],
      "authorship_tag": "ABX9TyPn9YuPxa0wSJ+vAuAjJ88j",
      "include_colab_link": true
    },
    "kernelspec": {
      "name": "python3",
      "display_name": "Python 3"
    },
    "language_info": {
      "name": "python"
    }
  },
  "cells": [
    {
      "cell_type": "markdown",
      "metadata": {
        "id": "view-in-github",
        "colab_type": "text"
      },
      "source": [
        "<a href=\"https://colab.research.google.com/github/Techspacenation1995/Machine_Learning/blob/main/2_4_if_else_statement_in_python.ipynb\" target=\"_parent\"><img src=\"https://colab.research.google.com/assets/colab-badge.svg\" alt=\"Open In Colab\"/></a>"
      ]
    },
    {
      "cell_type": "markdown",
      "source": [
        "# simple if else statement"
      ],
      "metadata": {
        "id": "E2AqPdkOgkGE"
      }
    },
    {
      "cell_type": "code",
      "execution_count": null,
      "metadata": {
        "colab": {
          "base_uri": "https://localhost:8080/"
        },
        "id": "up5K1cm_gZqB",
        "outputId": "c24c50c9-e8a6-4727-db27-dbb3aaa183ff"
      },
      "outputs": [
        {
          "output_type": "stream",
          "name": "stdout",
          "text": [
            "b is the greatest number\n"
          ]
        }
      ],
      "source": [
        "a = 30\n",
        "b = 50\n",
        "\n",
        "if(a > b):\n",
        "  print(\"a is the greatest number\")\n",
        "else:\n",
        "  print(\"b is the greatest number\")"
      ]
    },
    {
      "cell_type": "code",
      "source": [
        "a = int(input(\"Enter the first number: \"))\n",
        "b = int(input(\"Enter the second number: \"))\n",
        "\n",
        "if(a > b):\n",
        "  print(\"First number is the greatest\")\n",
        "else:\n",
        "  print(\"Second number is the greatest\")"
      ],
      "metadata": {
        "colab": {
          "base_uri": "https://localhost:8080/"
        },
        "id": "E-OmCueIg225",
        "outputId": "e0e379f4-7f39-40a4-fa76-a6e3cb33ffdd"
      },
      "execution_count": null,
      "outputs": [
        {
          "output_type": "stream",
          "name": "stdout",
          "text": [
            "Enter the first number: 150\n",
            "Enter the second number: 100\n",
            "First number is the greatest\n"
          ]
        }
      ]
    },
    {
      "cell_type": "markdown",
      "source": [
        "# if elif else statement"
      ],
      "metadata": {
        "id": "Bwxe58v4habC"
      }
    },
    {
      "cell_type": "code",
      "source": [
        "a = 15\n",
        "b = 25\n",
        "c = 30\n",
        "\n",
        "if (b < a > c):\n",
        "  print(\"a is the greatest number\")\n",
        "elif (a <b> c):\n",
        "  print(\"b is the greatest number\")\n",
        "else:\n",
        "  print(\"c is the greatest number\")"
      ],
      "metadata": {
        "id": "Mi5Ph6m3hHvP",
        "colab": {
          "base_uri": "https://localhost:8080/"
        },
        "outputId": "5f8f17d7-38e2-4e5a-ae6d-0bea13eb9e0a"
      },
      "execution_count": null,
      "outputs": [
        {
          "output_type": "stream",
          "name": "stdout",
          "text": [
            "c is the greatest number\n"
          ]
        }
      ]
    },
    {
      "cell_type": "markdown",
      "source": [
        "#Nested if statement"
      ],
      "metadata": {
        "id": "hEgU1WvKzW52"
      }
    },
    {
      "cell_type": "code",
      "source": [
        "a = 20\n",
        "b = 40\n",
        "c = 60\n",
        "\n",
        "if (a > b):\n",
        "  if (a > c):\n",
        "    print(\"a is the greatest number\")\n",
        "  else:\n",
        "    print(\"c is the greatest number\")\n",
        "else:\n",
        "  if (b > c):\n",
        "    print(\"b is the greatest number\")\n",
        "  else:\n",
        "    print(\"c is the greatest number\")"
      ],
      "metadata": {
        "colab": {
          "base_uri": "https://localhost:8080/"
        },
        "id": "Iq1wweCZy-3d",
        "outputId": "d7334e8a-0809-4dab-f44a-e691b32c41e8"
      },
      "execution_count": null,
      "outputs": [
        {
          "output_type": "stream",
          "name": "stdout",
          "text": [
            "c is the greatest number\n"
          ]
        }
      ]
    },
    {
      "cell_type": "code",
      "source": [],
      "metadata": {
        "id": "CR9K-9J41Wkg"
      },
      "execution_count": null,
      "outputs": []
    }
  ]
}