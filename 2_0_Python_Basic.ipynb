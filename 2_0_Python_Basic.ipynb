{
  "nbformat": 4,
  "nbformat_minor": 0,
  "metadata": {
    "colab": {
      "provenance": [],
      "authorship_tag": "ABX9TyMMNjN+mbee+Ru75X94BTeY",
      "include_colab_link": true
    },
    "kernelspec": {
      "name": "python3",
      "display_name": "Python 3"
    },
    "language_info": {
      "name": "python"
    }
  },
  "cells": [
    {
      "cell_type": "markdown",
      "metadata": {
        "id": "view-in-github",
        "colab_type": "text"
      },
      "source": [
        "<a href=\"https://colab.research.google.com/github/Techspacenation1995/Machine_Learning/blob/main/2_0_Python_Basic.ipynb\" target=\"_parent\"><img src=\"https://colab.research.google.com/assets/colab-badge.svg\" alt=\"Open In Colab\"/></a>"
      ]
    },
    {
      "cell_type": "markdown",
      "source": [
        "Programming Language used for Machine Learning:\n",
        "\n",
        "\n",
        "1.   Python\n",
        "2.   R\n",
        "\n"
      ],
      "metadata": {
        "id": "B-n0B4QIbsog"
      }
    },
    {
      "cell_type": "markdown",
      "source": [
        "#print function"
      ],
      "metadata": {
        "id": "6QbtdX1GcXeW"
      }
    },
    {
      "cell_type": "code",
      "execution_count": null,
      "metadata": {
        "colab": {
          "base_uri": "https://localhost:8080/"
        },
        "id": "5sA-TvIPbfDb",
        "outputId": "b7cc94a5-02fa-4329-8277-096b7705f80a"
      },
      "outputs": [
        {
          "output_type": "stream",
          "name": "stdout",
          "text": [
            "Machine Learning\n"
          ]
        }
      ],
      "source": [
        "print(\"Machine Learning\")"
      ]
    },
    {
      "cell_type": "code",
      "source": [
        "print(\"Machine Learning\" + \" Project\")"
      ],
      "metadata": {
        "colab": {
          "base_uri": "https://localhost:8080/"
        },
        "id": "dkwn_GRScgL2",
        "outputId": "9699da4b-020e-4c45-a2b4-d91aa87d8bb0"
      },
      "execution_count": null,
      "outputs": [
        {
          "output_type": "stream",
          "name": "stdout",
          "text": [
            "Machine Learning Project\n"
          ]
        }
      ]
    },
    {
      "cell_type": "code",
      "source": [
        "print(8)"
      ],
      "metadata": {
        "colab": {
          "base_uri": "https://localhost:8080/"
        },
        "id": "-UduA5ahc4cP",
        "outputId": "fe97d97b-9d03-47aa-86dc-862c49e905e1"
      },
      "execution_count": null,
      "outputs": [
        {
          "output_type": "stream",
          "name": "stdout",
          "text": [
            "8\n"
          ]
        }
      ]
    },
    {
      "cell_type": "code",
      "source": [
        "print(8+3)"
      ],
      "metadata": {
        "colab": {
          "base_uri": "https://localhost:8080/"
        },
        "id": "3i3nKqjidDWF",
        "outputId": "cb8844f5-152a-401f-a709-82a333fd0d9a"
      },
      "execution_count": null,
      "outputs": [
        {
          "output_type": "stream",
          "name": "stdout",
          "text": [
            "11\n"
          ]
        }
      ]
    },
    {
      "cell_type": "markdown",
      "source": [
        "#Basic Data Types:\n",
        "\n",
        "1.   int\n",
        "2.   float\n",
        "3.  str\n",
        "\n",
        "\n",
        "\n"
      ],
      "metadata": {
        "id": "CpoS0FBpd_lW"
      }
    },
    {
      "cell_type": "code",
      "source": [
        "type(8)"
      ],
      "metadata": {
        "colab": {
          "base_uri": "https://localhost:8080/"
        },
        "id": "JeB-K7jqdIVx",
        "outputId": "1d1b9fac-f72b-4675-89ea-be3af629285b"
      },
      "execution_count": null,
      "outputs": [
        {
          "output_type": "execute_result",
          "data": {
            "text/plain": [
              "int"
            ]
          },
          "metadata": {},
          "execution_count": 6
        }
      ]
    },
    {
      "cell_type": "code",
      "source": [
        "type(5.3)"
      ],
      "metadata": {
        "colab": {
          "base_uri": "https://localhost:8080/"
        },
        "id": "yHU-r5kRea4A",
        "outputId": "92f9f002-a0eb-445a-db20-108885fcfcfa"
      },
      "execution_count": null,
      "outputs": [
        {
          "output_type": "execute_result",
          "data": {
            "text/plain": [
              "float"
            ]
          },
          "metadata": {},
          "execution_count": 7
        }
      ]
    },
    {
      "cell_type": "code",
      "source": [
        "type(\"Machine Learning\")"
      ],
      "metadata": {
        "colab": {
          "base_uri": "https://localhost:8080/"
        },
        "id": "l8csXGs2eeJO",
        "outputId": "ed8cc073-a84a-43b9-e07f-2350b94e85c8"
      },
      "execution_count": null,
      "outputs": [
        {
          "output_type": "execute_result",
          "data": {
            "text/plain": [
              "str"
            ]
          },
          "metadata": {},
          "execution_count": 8
        }
      ]
    },
    {
      "cell_type": "markdown",
      "source": [
        "#Constants and Variables"
      ],
      "metadata": {
        "id": "UoM7cJvze0wc"
      }
    },
    {
      "cell_type": "code",
      "source": [
        "superhero = \"Iron man\"\n",
        "print(superhero)"
      ],
      "metadata": {
        "colab": {
          "base_uri": "https://localhost:8080/"
        },
        "id": "MpD2mekNe4up",
        "outputId": "195ce871-8a53-442f-f407-ba97ab651df9"
      },
      "execution_count": null,
      "outputs": [
        {
          "output_type": "stream",
          "name": "stdout",
          "text": [
            "Iron man\n"
          ]
        }
      ]
    },
    {
      "cell_type": "code",
      "source": [
        "superhero = \"Thor\"\n",
        "print(superhero)"
      ],
      "metadata": {
        "colab": {
          "base_uri": "https://localhost:8080/"
        },
        "id": "Q-1W3nxRfDa3",
        "outputId": "3b5a4c9b-e8e5-44f0-b429-137fe4d5b8b6"
      },
      "execution_count": null,
      "outputs": [
        {
          "output_type": "stream",
          "name": "stdout",
          "text": [
            "Thor\n"
          ]
        }
      ]
    },
    {
      "cell_type": "code",
      "source": [
        "hero1,hero2,hero3 = \"Iron man\",\"Thor\",\"Captain America\"\n",
        "print(hero1)\n",
        "print(hero2)\n",
        "print(hero3)"
      ],
      "metadata": {
        "colab": {
          "base_uri": "https://localhost:8080/"
        },
        "id": "DkrXjXyifd0x",
        "outputId": "35b25f4a-11ee-4ddd-da03-c4fbf067c4f9"
      },
      "execution_count": null,
      "outputs": [
        {
          "output_type": "stream",
          "name": "stdout",
          "text": [
            "Iron man\n",
            "Thor\n",
            "Captain America\n"
          ]
        }
      ]
    },
    {
      "cell_type": "code",
      "source": [
        "x = y = z = 23\n",
        "print(x)\n",
        "print(y)\n",
        "print(z)"
      ],
      "metadata": {
        "colab": {
          "base_uri": "https://localhost:8080/"
        },
        "id": "7GwocgVPfyyn",
        "outputId": "8ffb336d-a3d6-40d1-c219-97471446e309"
      },
      "execution_count": null,
      "outputs": [
        {
          "output_type": "stream",
          "name": "stdout",
          "text": [
            "23\n",
            "23\n",
            "23\n"
          ]
        }
      ]
    },
    {
      "cell_type": "markdown",
      "source": [
        "#Input Function"
      ],
      "metadata": {
        "id": "ie79-0rOgQHw"
      }
    },
    {
      "cell_type": "code",
      "source": [
        "number_1 = int(input(\"Enter first number: \"))\n",
        "number_2 = int(input(\"Enter second number: \"))\n",
        "\n",
        "total = number_1 + number_2\n",
        "print(total)"
      ],
      "metadata": {
        "colab": {
          "base_uri": "https://localhost:8080/"
        },
        "id": "whFsfX0BgJ5G",
        "outputId": "227bca71-edbd-416e-f572-2af836b4933a"
      },
      "execution_count": null,
      "outputs": [
        {
          "output_type": "stream",
          "name": "stdout",
          "text": [
            "Enter first number: 23\n",
            "Enter second number: 23\n",
            "46\n"
          ]
        }
      ]
    },
    {
      "cell_type": "markdown",
      "source": [
        "#Changing the data type in python"
      ],
      "metadata": {
        "id": "MmBw1V5-s-jW"
      }
    },
    {
      "cell_type": "code",
      "source": [
        "num =  5\n",
        "float(num)\n",
        "print(float(num))"
      ],
      "metadata": {
        "colab": {
          "base_uri": "https://localhost:8080/"
        },
        "id": "HrgkE43Dgq8i",
        "outputId": "84688040-aab1-482e-932d-9ee3643414a4"
      },
      "execution_count": null,
      "outputs": [
        {
          "output_type": "stream",
          "name": "stdout",
          "text": [
            "5.0\n"
          ]
        }
      ]
    },
    {
      "cell_type": "code",
      "source": [],
      "metadata": {
        "id": "E3rJ1qK-teyl"
      },
      "execution_count": null,
      "outputs": []
    }
  ]
}