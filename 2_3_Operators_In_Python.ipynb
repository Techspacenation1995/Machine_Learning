{
  "nbformat": 4,
  "nbformat_minor": 0,
  "metadata": {
    "colab": {
      "provenance": [],
      "authorship_tag": "ABX9TyP7jRBCq3K/mt/fn954FQ1W",
      "include_colab_link": true
    },
    "kernelspec": {
      "name": "python3",
      "display_name": "Python 3"
    },
    "language_info": {
      "name": "python"
    }
  },
  "cells": [
    {
      "cell_type": "markdown",
      "metadata": {
        "id": "view-in-github",
        "colab_type": "text"
      },
      "source": [
        "<a href=\"https://colab.research.google.com/github/Techspacenation1995/Machine_Learning/blob/main/2_3_Operators_In_Python.ipynb\" target=\"_parent\"><img src=\"https://colab.research.google.com/assets/colab-badge.svg\" alt=\"Open In Colab\"/></a>"
      ]
    },
    {
      "cell_type": "markdown",
      "source": [
        "Operators in Python:\n",
        "\n",
        "\n",
        "\n",
        "1.   Arithmetic Operators\n",
        "2.   Assignment Operators\n",
        "3.   Comparison Operators\n",
        "4.   Logical Operators\n",
        "5.   Identity Operators\n",
        "6    Membership Operators\n",
        "\n"
      ],
      "metadata": {
        "id": "8dKTi7JvWVL-"
      }
    },
    {
      "cell_type": "markdown",
      "source": [
        "#1. Arithmetic Operators"
      ],
      "metadata": {
        "id": "Boa08JZjXL2p"
      }
    },
    {
      "cell_type": "code",
      "execution_count": null,
      "metadata": {
        "colab": {
          "base_uri": "https://localhost:8080/"
        },
        "id": "9YEjIeFYWNlu",
        "outputId": "68598a7f-e9f8-41fe-c7af-27ae00396eb9"
      },
      "outputs": [
        {
          "output_type": "stream",
          "name": "stdout",
          "text": [
            "sum =  30\n",
            "difference =  10\n",
            "product =  200\n",
            "quotient =  2.0\n",
            "remainder =  0\n",
            "exponent =  10240000000000\n"
          ]
        }
      ],
      "source": [
        "num_1 = 20\n",
        "num_2 = 10\n",
        "\n",
        "# addition\n",
        "sum = num_1 + num_2\n",
        "print(\"sum = \", sum)\n",
        "\n",
        "# subtraction\n",
        "diff = num_1 - num_2\n",
        "print(\"difference = \", diff)\n",
        "\n",
        "# multiplication\n",
        "prod = num_1 * num_2\n",
        "print(\"product = \", prod)\n",
        "\n",
        "# division\n",
        "quot = num_1 / num_2\n",
        "print(\"quotient = \", quot)\n",
        "\n",
        "# remainder\n",
        "rem = num_1 % num_2\n",
        "print(\"remainder = \", rem)\n",
        "\n",
        "# exponent\n",
        "exp = num_1 ** num_2\n",
        "print(\"exponent = \", exp)"
      ]
    },
    {
      "cell_type": "markdown",
      "source": [
        "#2. Assignment Operator\n",
        "\n",
        "+=\n",
        "\n",
        "-=\n",
        "\n",
        "*=\n",
        "\n",
        "/=\n",
        "\n",
        "%="
      ],
      "metadata": {
        "id": "atnNoKMVYeq1"
      }
    },
    {
      "cell_type": "code",
      "source": [
        "a = 5\n",
        "print(a)\n",
        "\n",
        "a += 5\n",
        "print(a)\n",
        "\n",
        "a -= 5\n",
        "print(a)\n",
        "\n",
        "a *= 5\n",
        "print(a)\n",
        "\n",
        "a /= 5\n",
        "print(a)\n",
        "\n",
        "a %= 5\n",
        "print(a)"
      ],
      "metadata": {
        "colab": {
          "base_uri": "https://localhost:8080/"
        },
        "id": "IpgcHxlFXQ_B",
        "outputId": "992c0942-32ee-4095-e39a-74bcf523d8f1"
      },
      "execution_count": null,
      "outputs": [
        {
          "output_type": "stream",
          "name": "stdout",
          "text": [
            "5\n",
            "10\n",
            "5\n",
            "25\n",
            "5.0\n",
            "0.0\n"
          ]
        }
      ]
    },
    {
      "cell_type": "markdown",
      "source": [
        "#Comparison Operators\n",
        "\n",
        "Compares to variables\n"
      ],
      "metadata": {
        "id": "zqVDBssWd3vO"
      }
    },
    {
      "cell_type": "code",
      "source": [
        "a = 5\n",
        "b = 10\n",
        "\n",
        "print(a == b)  # Equal to\n",
        "print(a != b)  # Not Equal to\n",
        "print(a > b) # Greater than\n",
        "print(a < b) # Less Than\n",
        "print(a >= b) # Greater than or equal to\n",
        "print(a <= b) # Less than or equal  to"
      ],
      "metadata": {
        "colab": {
          "base_uri": "https://localhost:8080/"
        },
        "id": "Y6C4d-mtY8xO",
        "outputId": "dda8a257-412d-49da-b4b8-64780dd236fc"
      },
      "execution_count": null,
      "outputs": [
        {
          "output_type": "stream",
          "name": "stdout",
          "text": [
            "False\n",
            "True\n",
            "False\n",
            "True\n",
            "False\n",
            "True\n"
          ]
        }
      ]
    },
    {
      "cell_type": "markdown",
      "source": [
        "#Logical Operators\n",
        "\n",
        "> There are 3 Logical Operators\n",
        "\n",
        "and\n",
        "\n",
        "or\n",
        "\n",
        "not\n",
        "\n"
      ],
      "metadata": {
        "id": "S623BlNHek9Y"
      }
    },
    {
      "cell_type": "code",
      "source": [
        "a = 10\n",
        "\n",
        "print(a > 20 and a > 5)\n",
        "print(a > 20 or a > 5)\n",
        "print(not(a > 8 and a > 5))"
      ],
      "metadata": {
        "colab": {
          "base_uri": "https://localhost:8080/"
        },
        "id": "1KEfFxSpeHr-",
        "outputId": "84ded6c2-1bc3-42f2-c32b-3b8675a12d63"
      },
      "execution_count": null,
      "outputs": [
        {
          "output_type": "stream",
          "name": "stdout",
          "text": [
            "False\n",
            "True\n",
            "False\n"
          ]
        }
      ]
    },
    {
      "cell_type": "markdown",
      "source": [
        "#Identity Operator\n",
        "\n",
        "is\n",
        "\n",
        "is not"
      ],
      "metadata": {
        "id": "2mZRROsZfVB-"
      }
    },
    {
      "cell_type": "code",
      "source": [
        "x = 5\n",
        "y = 5\n",
        "\n",
        "print(x is y)\n",
        "print(x is not y)"
      ],
      "metadata": {
        "colab": {
          "base_uri": "https://localhost:8080/"
        },
        "id": "kYKC9ESpe5Nj",
        "outputId": "20adeb46-afea-46ec-e0e4-de7ba7abb118"
      },
      "execution_count": null,
      "outputs": [
        {
          "output_type": "stream",
          "name": "stdout",
          "text": [
            "True\n",
            "False\n"
          ]
        }
      ]
    },
    {
      "cell_type": "markdown",
      "source": [
        "#Membership Operators\n",
        "\n",
        "in\n",
        "\n",
        "not in"
      ],
      "metadata": {
        "id": "g19tbvwefyyT"
      }
    },
    {
      "cell_type": "code",
      "source": [
        "a = [1, 2, 3, 4, 5]\n",
        "\n",
        "print(1 in a)\n",
        "print(6 not in a)"
      ],
      "metadata": {
        "colab": {
          "base_uri": "https://localhost:8080/"
        },
        "id": "sf00C4w6fevA",
        "outputId": "907dd5ae-a221-4994-bb9a-98ecacb05bbf"
      },
      "execution_count": null,
      "outputs": [
        {
          "output_type": "stream",
          "name": "stdout",
          "text": [
            "True\n",
            "True\n"
          ]
        }
      ]
    },
    {
      "cell_type": "code",
      "source": [
        "a = 5\n",
        "b =  10\n",
        "\n",
        "c = [1,2,3,4,5]\n",
        "print(a in c)\n",
        "print(b in c)"
      ],
      "metadata": {
        "colab": {
          "base_uri": "https://localhost:8080/"
        },
        "id": "Wobjgz-6f8NW",
        "outputId": "5ca8a88a-3c9d-4d8e-8b07-84c4ca11a5aa"
      },
      "execution_count": null,
      "outputs": [
        {
          "output_type": "stream",
          "name": "stdout",
          "text": [
            "True\n",
            "False\n"
          ]
        }
      ]
    },
    {
      "cell_type": "code",
      "source": [],
      "metadata": {
        "id": "nkDeua8FgIJx"
      },
      "execution_count": null,
      "outputs": []
    }
  ]
}