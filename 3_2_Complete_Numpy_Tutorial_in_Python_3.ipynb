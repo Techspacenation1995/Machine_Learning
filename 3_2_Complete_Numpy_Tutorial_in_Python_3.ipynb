{
  "nbformat": 4,
  "nbformat_minor": 0,
  "metadata": {
    "colab": {
      "provenance": [],
      "authorship_tag": "ABX9TyN7jVuO1auwn+ogkbdBa/YV",
      "include_colab_link": true
    },
    "kernelspec": {
      "name": "python3",
      "display_name": "Python 3"
    },
    "language_info": {
      "name": "python"
    }
  },
  "cells": [
    {
      "cell_type": "markdown",
      "metadata": {
        "id": "view-in-github",
        "colab_type": "text"
      },
      "source": [
        "<a href=\"https://colab.research.google.com/github/Techspacenation1995/Machine_Learning/blob/main/3_2_Complete_Numpy_Tutorial_in_Python_3.ipynb\" target=\"_parent\"><img src=\"https://colab.research.google.com/assets/colab-badge.svg\" alt=\"Open In Colab\"/></a>"
      ]
    },
    {
      "cell_type": "markdown",
      "source": [
        "#Array Operations\n",
        "\n",
        "The core power of NumPy is its ability to perform fast, efficient operations on arrays without writing loops.\n",
        "\n"
      ],
      "metadata": {
        "id": "9ApdwrN6R3b5"
      }
    },
    {
      "cell_type": "markdown",
      "source": [
        "#Scalar Operation\n",
        "\n",
        " scalar operation means performing a mathematical operation between a NumPy array and a single number (scalar).\n",
        "\n",
        "Instead of writing a loop to apply a value to each element, NumPy does it automatically — element-wise — using broadcasting."
      ],
      "metadata": {
        "id": "fGxvj3i4SnAq"
      }
    },
    {
      "cell_type": "code",
      "execution_count": null,
      "metadata": {
        "colab": {
          "base_uri": "https://localhost:8080/"
        },
        "id": "W9vfgYq8RvZJ",
        "outputId": "680299ac-99a9-4ee8-cc55-cadf6d412b08"
      },
      "outputs": [
        {
          "output_type": "execute_result",
          "data": {
            "text/plain": [
              "array([6, 7, 8])"
            ]
          },
          "metadata": {},
          "execution_count": 2
        }
      ],
      "source": [
        "# 1. Addition\n",
        "\n",
        "import numpy as np\n",
        "\n",
        "arr = np.array([1, 2, 3])\n",
        "\n",
        "result = arr + 5\n",
        "\n",
        "result"
      ]
    },
    {
      "cell_type": "markdown",
      "source": [
        "Every element in arr has 5 added to it."
      ],
      "metadata": {
        "id": "pSdFfJQxTPwg"
      }
    },
    {
      "cell_type": "code",
      "source": [
        "#  2. Subtraction\n",
        "\n",
        "result = arr - 1\n",
        "\n",
        "result"
      ],
      "metadata": {
        "colab": {
          "base_uri": "https://localhost:8080/"
        },
        "id": "XrD1Hp0ATDYT",
        "outputId": "54880775-d56a-4912-953f-1aa8b1e2ccde"
      },
      "execution_count": null,
      "outputs": [
        {
          "output_type": "execute_result",
          "data": {
            "text/plain": [
              "array([0, 1, 2])"
            ]
          },
          "metadata": {},
          "execution_count": 4
        }
      ]
    },
    {
      "cell_type": "code",
      "source": [
        "# 3. Multiplication\n",
        "\n",
        "result = arr * 2\n",
        "\n",
        "result"
      ],
      "metadata": {
        "colab": {
          "base_uri": "https://localhost:8080/"
        },
        "id": "6egRj_zOTdx0",
        "outputId": "4fb98b69-34f5-4d24-9005-a8bc66cdf04f"
      },
      "execution_count": null,
      "outputs": [
        {
          "output_type": "execute_result",
          "data": {
            "text/plain": [
              "array([2, 4, 6])"
            ]
          },
          "metadata": {},
          "execution_count": 5
        }
      ]
    },
    {
      "cell_type": "code",
      "source": [
        "# 4. Division\n",
        "\n",
        "result = arr / 2\n",
        "\n",
        "result"
      ],
      "metadata": {
        "colab": {
          "base_uri": "https://localhost:8080/"
        },
        "id": "iqOjYACcTpeq",
        "outputId": "7cab45f2-3e73-4802-af81-e87229e41532"
      },
      "execution_count": null,
      "outputs": [
        {
          "output_type": "execute_result",
          "data": {
            "text/plain": [
              "array([0.5, 1. , 1.5])"
            ]
          },
          "metadata": {},
          "execution_count": 6
        }
      ]
    },
    {
      "cell_type": "code",
      "source": [
        "# 5. Exponentiation\n",
        "\n",
        "result = arr ** 2\n",
        "\n",
        "result"
      ],
      "metadata": {
        "colab": {
          "base_uri": "https://localhost:8080/"
        },
        "id": "LFipxwrKTudH",
        "outputId": "91fbed77-b4e7-47d7-f02e-28beee20fd3a"
      },
      "execution_count": null,
      "outputs": [
        {
          "output_type": "execute_result",
          "data": {
            "text/plain": [
              "array([1, 4, 9])"
            ]
          },
          "metadata": {},
          "execution_count": 7
        }
      ]
    },
    {
      "cell_type": "code",
      "source": [
        "# 6. Modulus (remainder)\n",
        "\n",
        "result = arr % 2\n",
        "\n",
        "result\n",
        "#"
      ],
      "metadata": {
        "colab": {
          "base_uri": "https://localhost:8080/"
        },
        "id": "1LqWDiapT4Dn",
        "outputId": "55abbe28-7f6b-4795-b582-0847a7aa344b"
      },
      "execution_count": null,
      "outputs": [
        {
          "output_type": "execute_result",
          "data": {
            "text/plain": [
              "array([1, 0, 1])"
            ]
          },
          "metadata": {},
          "execution_count": 8
        }
      ]
    },
    {
      "cell_type": "markdown",
      "source": [
        "#Relational Operations in NumPy\n",
        "\n",
        "These operations compare each element in a NumPy array to a scalar or another array and return **boolean arrays** (True or False), which are super useful for filtering, masking, and logic-building in data processing.\n",
        "\n"
      ],
      "metadata": {
        "id": "AD-nDXtlUnC6"
      }
    },
    {
      "cell_type": "code",
      "source": [
        "arr = np.array([1, 2, 3, 4, 5])\n",
        "\n",
        "print(arr > 3)"
      ],
      "metadata": {
        "colab": {
          "base_uri": "https://localhost:8080/"
        },
        "id": "efxfOYR9T-AO",
        "outputId": "fd12fffc-1057-4b73-db0c-2c95aaf94d9f"
      },
      "execution_count": null,
      "outputs": [
        {
          "output_type": "stream",
          "name": "stdout",
          "text": [
            "[False False False  True  True]\n"
          ]
        }
      ]
    },
    {
      "cell_type": "markdown",
      "source": [
        "Comparison with Another Array"
      ],
      "metadata": {
        "id": "fdBsI-0_VDZ6"
      }
    },
    {
      "cell_type": "code",
      "source": [
        "a = np.array([1, 2, 3])\n",
        "b = np.array([3, 2, 1])\n",
        "\n",
        "print(a > b)"
      ],
      "metadata": {
        "colab": {
          "base_uri": "https://localhost:8080/"
        },
        "id": "QR0Hjty6U-sE",
        "outputId": "a26a8361-4b50-4152-d31a-3713bee38a95"
      },
      "execution_count": null,
      "outputs": [
        {
          "output_type": "stream",
          "name": "stdout",
          "text": [
            "[False False  True]\n"
          ]
        }
      ]
    },
    {
      "cell_type": "markdown",
      "source": [
        "**Why Is This Useful?**\n",
        "\n",
        "You can use the result to filter or select data."
      ],
      "metadata": {
        "id": "GVKIRtyxVPr3"
      }
    },
    {
      "cell_type": "code",
      "source": [
        "arr = np.array([1, 2, 3, 4, 5])\n",
        "\n",
        "mask = arr > 3\n",
        "\n",
        "filtered_data = arr[mask]\n",
        "\n",
        "filtered_data"
      ],
      "metadata": {
        "colab": {
          "base_uri": "https://localhost:8080/"
        },
        "id": "qr6IhtesVIrx",
        "outputId": "ac0032d7-8f20-4c07-d2b5-db0e57fb41b5"
      },
      "execution_count": null,
      "outputs": [
        {
          "output_type": "execute_result",
          "data": {
            "text/plain": [
              "array([4, 5])"
            ]
          },
          "metadata": {},
          "execution_count": 15
        }
      ]
    },
    {
      "cell_type": "code",
      "source": [],
      "metadata": {
        "id": "WYm-6fIAVqsq"
      },
      "execution_count": null,
      "outputs": []
    }
  ]
}