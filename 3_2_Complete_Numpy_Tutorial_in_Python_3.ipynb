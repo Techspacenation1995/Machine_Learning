{
  "nbformat": 4,
  "nbformat_minor": 0,
  "metadata": {
    "colab": {
      "provenance": [],
      "authorship_tag": "ABX9TyNhmaYbLfKtxodfkj03rvvU",
      "include_colab_link": true
    },
    "kernelspec": {
      "name": "python3",
      "display_name": "Python 3"
    },
    "language_info": {
      "name": "python"
    }
  },
  "cells": [
    {
      "cell_type": "markdown",
      "metadata": {
        "id": "view-in-github",
        "colab_type": "text"
      },
      "source": [
        "<a href=\"https://colab.research.google.com/github/Techspacenation1995/Machine_Learning/blob/main/3_2_Complete_Numpy_Tutorial_in_Python_3.ipynb\" target=\"_parent\"><img src=\"https://colab.research.google.com/assets/colab-badge.svg\" alt=\"Open In Colab\"/></a>"
      ]
    },
    {
      "cell_type": "markdown",
      "source": [
        "#Array Operations\n",
        "\n",
        "The core power of NumPy is its ability to perform fast, efficient operations on arrays without writing loops.\n",
        "\n"
      ],
      "metadata": {
        "id": "9ApdwrN6R3b5"
      }
    },
    {
      "cell_type": "markdown",
      "source": [
        "#Scalar Operation\n",
        "\n",
        " scalar operation means performing a mathematical operation between a NumPy array and a single number (scalar).\n",
        "\n",
        "Instead of writing a loop to apply a value to each element, NumPy does it automatically — element-wise — using broadcasting."
      ],
      "metadata": {
        "id": "fGxvj3i4SnAq"
      }
    },
    {
      "cell_type": "code",
      "execution_count": null,
      "metadata": {
        "colab": {
          "base_uri": "https://localhost:8080/"
        },
        "id": "W9vfgYq8RvZJ",
        "outputId": "680299ac-99a9-4ee8-cc55-cadf6d412b08"
      },
      "outputs": [
        {
          "output_type": "execute_result",
          "data": {
            "text/plain": [
              "array([6, 7, 8])"
            ]
          },
          "metadata": {},
          "execution_count": 2
        }
      ],
      "source": [
        "# 1. Addition\n",
        "\n",
        "import numpy as np\n",
        "\n",
        "arr = np.array([1, 2, 3])\n",
        "\n",
        "result = arr + 5\n",
        "\n",
        "result"
      ]
    },
    {
      "cell_type": "markdown",
      "source": [
        "Every element in arr has 5 added to it."
      ],
      "metadata": {
        "id": "pSdFfJQxTPwg"
      }
    },
    {
      "cell_type": "code",
      "source": [
        "#  2. Subtraction\n",
        "\n",
        "result = arr - 1\n",
        "\n",
        "result"
      ],
      "metadata": {
        "colab": {
          "base_uri": "https://localhost:8080/"
        },
        "id": "XrD1Hp0ATDYT",
        "outputId": "54880775-d56a-4912-953f-1aa8b1e2ccde"
      },
      "execution_count": null,
      "outputs": [
        {
          "output_type": "execute_result",
          "data": {
            "text/plain": [
              "array([0, 1, 2])"
            ]
          },
          "metadata": {},
          "execution_count": 4
        }
      ]
    },
    {
      "cell_type": "code",
      "source": [
        "# 3. Multiplication\n",
        "\n",
        "result = arr * 2\n",
        "\n",
        "result"
      ],
      "metadata": {
        "colab": {
          "base_uri": "https://localhost:8080/"
        },
        "id": "6egRj_zOTdx0",
        "outputId": "4fb98b69-34f5-4d24-9005-a8bc66cdf04f"
      },
      "execution_count": null,
      "outputs": [
        {
          "output_type": "execute_result",
          "data": {
            "text/plain": [
              "array([2, 4, 6])"
            ]
          },
          "metadata": {},
          "execution_count": 5
        }
      ]
    },
    {
      "cell_type": "code",
      "source": [
        "# 4. Division\n",
        "\n",
        "result = arr / 2\n",
        "\n",
        "result"
      ],
      "metadata": {
        "colab": {
          "base_uri": "https://localhost:8080/"
        },
        "id": "iqOjYACcTpeq",
        "outputId": "7cab45f2-3e73-4802-af81-e87229e41532"
      },
      "execution_count": null,
      "outputs": [
        {
          "output_type": "execute_result",
          "data": {
            "text/plain": [
              "array([0.5, 1. , 1.5])"
            ]
          },
          "metadata": {},
          "execution_count": 6
        }
      ]
    },
    {
      "cell_type": "code",
      "source": [
        "# 5. Exponentiation\n",
        "\n",
        "result = arr ** 2\n",
        "\n",
        "result"
      ],
      "metadata": {
        "colab": {
          "base_uri": "https://localhost:8080/"
        },
        "id": "LFipxwrKTudH",
        "outputId": "91fbed77-b4e7-47d7-f02e-28beee20fd3a"
      },
      "execution_count": null,
      "outputs": [
        {
          "output_type": "execute_result",
          "data": {
            "text/plain": [
              "array([1, 4, 9])"
            ]
          },
          "metadata": {},
          "execution_count": 7
        }
      ]
    },
    {
      "cell_type": "code",
      "source": [
        "# 6. Modulus (remainder)\n",
        "\n",
        "result = arr % 2\n",
        "\n",
        "result\n",
        "#"
      ],
      "metadata": {
        "colab": {
          "base_uri": "https://localhost:8080/"
        },
        "id": "1LqWDiapT4Dn",
        "outputId": "55abbe28-7f6b-4795-b582-0847a7aa344b"
      },
      "execution_count": null,
      "outputs": [
        {
          "output_type": "execute_result",
          "data": {
            "text/plain": [
              "array([1, 0, 1])"
            ]
          },
          "metadata": {},
          "execution_count": 8
        }
      ]
    },
    {
      "cell_type": "markdown",
      "source": [
        "#Relational Operations in NumPy\n",
        "\n",
        "These operations compare each element in a NumPy array to a scalar or another array and return **boolean arrays** (True or False), which are super useful for filtering, masking, and logic-building in data processing.\n",
        "\n"
      ],
      "metadata": {
        "id": "AD-nDXtlUnC6"
      }
    },
    {
      "cell_type": "code",
      "source": [
        "arr = np.array([1, 2, 3, 4, 5])\n",
        "\n",
        "print(arr > 3)"
      ],
      "metadata": {
        "colab": {
          "base_uri": "https://localhost:8080/"
        },
        "id": "efxfOYR9T-AO",
        "outputId": "fd12fffc-1057-4b73-db0c-2c95aaf94d9f"
      },
      "execution_count": null,
      "outputs": [
        {
          "output_type": "stream",
          "name": "stdout",
          "text": [
            "[False False False  True  True]\n"
          ]
        }
      ]
    },
    {
      "cell_type": "markdown",
      "source": [
        "Comparison with Another Array"
      ],
      "metadata": {
        "id": "fdBsI-0_VDZ6"
      }
    },
    {
      "cell_type": "code",
      "source": [
        "a = np.array([1, 2, 3])\n",
        "b = np.array([3, 2, 1])\n",
        "\n",
        "print(a > b)"
      ],
      "metadata": {
        "colab": {
          "base_uri": "https://localhost:8080/"
        },
        "id": "QR0Hjty6U-sE",
        "outputId": "a26a8361-4b50-4152-d31a-3713bee38a95"
      },
      "execution_count": null,
      "outputs": [
        {
          "output_type": "stream",
          "name": "stdout",
          "text": [
            "[False False  True]\n"
          ]
        }
      ]
    },
    {
      "cell_type": "markdown",
      "source": [
        "**Why Is This Useful?**\n",
        "\n",
        "You can use the result to filter or select data."
      ],
      "metadata": {
        "id": "GVKIRtyxVPr3"
      }
    },
    {
      "cell_type": "code",
      "source": [
        "arr = np.array([1, 2, 3, 4, 5])\n",
        "\n",
        "mask = arr > 3\n",
        "\n",
        "filtered_data = arr[mask]\n",
        "\n",
        "filtered_data"
      ],
      "metadata": {
        "colab": {
          "base_uri": "https://localhost:8080/"
        },
        "id": "qr6IhtesVIrx",
        "outputId": "ac0032d7-8f20-4c07-d2b5-db0e57fb41b5"
      },
      "execution_count": null,
      "outputs": [
        {
          "output_type": "execute_result",
          "data": {
            "text/plain": [
              "array([4, 5])"
            ]
          },
          "metadata": {},
          "execution_count": 15
        }
      ]
    },
    {
      "cell_type": "markdown",
      "source": [
        "Combining Conditions (Logical Operations)\n",
        "\n",
        "You can combine relational operators with:\n",
        "\n",
        "* & (AND)\n",
        "\n",
        "* | (OR)\n",
        "\n",
        "* ~ (NOT)"
      ],
      "metadata": {
        "id": "YPHLIO8XhxPt"
      }
    },
    {
      "cell_type": "code",
      "source": [
        "arr = np.array([1, 2, 3, 4, 5])\n",
        "\n",
        "print((arr > 2) & (arr > 5))"
      ],
      "metadata": {
        "id": "WYm-6fIAVqsq",
        "colab": {
          "base_uri": "https://localhost:8080/"
        },
        "outputId": "97ab3be7-9779-44b7-8590-4d05d41de195"
      },
      "execution_count": 16,
      "outputs": [
        {
          "output_type": "stream",
          "name": "stdout",
          "text": [
            "[False False False False False]\n"
          ]
        }
      ]
    },
    {
      "cell_type": "markdown",
      "source": [
        "Check All or Any"
      ],
      "metadata": {
        "id": "metNZgDEiiw8"
      }
    },
    {
      "cell_type": "code",
      "source": [
        "print(np.all(arr > 2))"
      ],
      "metadata": {
        "colab": {
          "base_uri": "https://localhost:8080/"
        },
        "id": "BJWZPjEMiJ7J",
        "outputId": "168a27a7-68b0-4e8c-9ac6-d6c96d5dbef1"
      },
      "execution_count": 18,
      "outputs": [
        {
          "output_type": "stream",
          "name": "stdout",
          "text": [
            "False\n"
          ]
        }
      ]
    },
    {
      "cell_type": "code",
      "source": [
        "print(np.any(arr > 2))"
      ],
      "metadata": {
        "colab": {
          "base_uri": "https://localhost:8080/"
        },
        "id": "HLg4obbaiqln",
        "outputId": "b273ab5d-1c88-4068-8359-9ffc8ed11ea9"
      },
      "execution_count": 20,
      "outputs": [
        {
          "output_type": "stream",
          "name": "stdout",
          "text": [
            "True\n"
          ]
        }
      ]
    },
    {
      "cell_type": "markdown",
      "source": [
        "#Vector Operation\n",
        "\n",
        "NumPy provides powerful tools for element-wise operations, which makes working with vectors very efficient. These operations allow you to perform various mathematical tasks without needing explicit loops."
      ],
      "metadata": {
        "id": "YSG-_-AVjRwz"
      }
    },
    {
      "cell_type": "markdown",
      "source": [
        "#🔹 Vector Operations Overview\n",
        "\n",
        "* Element-wise operations: Operations are performed on each element of the vector.\n",
        "\n",
        "* Linear algebra operations: Operations like dot product, cross product, etc., apply to vectors.\n",
        "\n",
        "* Aggregation operations: Operations to summarize or reduce vector data, like sum, mean, etc."
      ],
      "metadata": {
        "id": "rcITmrmzjnCs"
      }
    },
    {
      "cell_type": "markdown",
      "source": [
        "#✅ 1. Element-wise Operations\n",
        "\n",
        "These are the same as scalar operations, but here, both operands are vectors (1D arrays)."
      ],
      "metadata": {
        "id": "H9eUuusgj7uU"
      }
    },
    {
      "cell_type": "markdown",
      "source": [
        "➕ Addition:"
      ],
      "metadata": {
        "id": "7OcLTc78kFGz"
      }
    },
    {
      "cell_type": "code",
      "source": [
        "import numpy as np\n",
        "\n",
        "a = np.array([1,2,3])\n",
        "b = np.array([4,5,6])\n",
        "\n",
        "c = a + b\n",
        "c"
      ],
      "metadata": {
        "colab": {
          "base_uri": "https://localhost:8080/"
        },
        "id": "wWkR8lm_i4Vh",
        "outputId": "3348e9eb-c347-4d5b-c68a-7cf47c7d7ee8"
      },
      "execution_count": 21,
      "outputs": [
        {
          "output_type": "execute_result",
          "data": {
            "text/plain": [
              "array([5, 7, 9])"
            ]
          },
          "metadata": {},
          "execution_count": 21
        }
      ]
    },
    {
      "cell_type": "markdown",
      "source": [
        "➖ Subtraction:"
      ],
      "metadata": {
        "id": "boPs834tkidl"
      }
    },
    {
      "cell_type": "code",
      "source": [
        "c = a - b\n",
        "c"
      ],
      "metadata": {
        "colab": {
          "base_uri": "https://localhost:8080/"
        },
        "id": "TsSB_5o3keLU",
        "outputId": "e248b854-b5af-4a65-cc78-7ab83e77cce0"
      },
      "execution_count": 23,
      "outputs": [
        {
          "output_type": "execute_result",
          "data": {
            "text/plain": [
              "array([-3, -3, -3])"
            ]
          },
          "metadata": {},
          "execution_count": 23
        }
      ]
    },
    {
      "cell_type": "markdown",
      "source": [
        "✖️ Multiplication:"
      ],
      "metadata": {
        "id": "hwaSbOWNksQp"
      }
    },
    {
      "cell_type": "code",
      "source": [
        "c = a * b\n",
        "c"
      ],
      "metadata": {
        "colab": {
          "base_uri": "https://localhost:8080/"
        },
        "id": "ZRiWAf7WkmN4",
        "outputId": "fdba9584-4fb0-456b-bf1a-3bc345ff7cde"
      },
      "execution_count": 24,
      "outputs": [
        {
          "output_type": "execute_result",
          "data": {
            "text/plain": [
              "array([ 4, 10, 18])"
            ]
          },
          "metadata": {},
          "execution_count": 24
        }
      ]
    },
    {
      "cell_type": "markdown",
      "source": [
        "➗ Division:"
      ],
      "metadata": {
        "id": "ZkJ0rFndk0y-"
      }
    },
    {
      "cell_type": "code",
      "source": [
        "c = a / b\n",
        "c"
      ],
      "metadata": {
        "colab": {
          "base_uri": "https://localhost:8080/"
        },
        "id": "o8QLBzuLkwUi",
        "outputId": "11452466-5f9f-4908-9d25-35489d86f2fa"
      },
      "execution_count": 25,
      "outputs": [
        {
          "output_type": "execute_result",
          "data": {
            "text/plain": [
              "array([0.25, 0.4 , 0.5 ])"
            ]
          },
          "metadata": {},
          "execution_count": 25
        }
      ]
    },
    {
      "cell_type": "markdown",
      "source": [
        "Exponentiation:"
      ],
      "metadata": {
        "id": "woSWPY4sk_iH"
      }
    },
    {
      "cell_type": "code",
      "source": [
        "c = a ** b\n",
        "c"
      ],
      "metadata": {
        "colab": {
          "base_uri": "https://localhost:8080/"
        },
        "id": "sp8fr9Y-k5_h",
        "outputId": "42759034-329c-4fc8-b4f2-36c77f56ac3e"
      },
      "execution_count": 26,
      "outputs": [
        {
          "output_type": "execute_result",
          "data": {
            "text/plain": [
              "array([  1,  32, 729])"
            ]
          },
          "metadata": {},
          "execution_count": 26
        }
      ]
    },
    {
      "cell_type": "markdown",
      "source": [
        "#✅ 2. Vector Dot Product\n",
        "\n",
        "The dot product is a crucial operation in linear algebra. It's the sum of the products of corresponding elements in two vectors."
      ],
      "metadata": {
        "id": "5ZWpxf_MlNzH"
      }
    },
    {
      "cell_type": "code",
      "source": [
        "dot_product = np.dot(a,b)\n",
        "print(dot_product)"
      ],
      "metadata": {
        "colab": {
          "base_uri": "https://localhost:8080/"
        },
        "id": "Jz-as662lHYe",
        "outputId": "52ccb6cc-da3c-4000-938a-596119aee690"
      },
      "execution_count": 28,
      "outputs": [
        {
          "output_type": "stream",
          "name": "stdout",
          "text": [
            "32\n"
          ]
        }
      ]
    },
    {
      "cell_type": "markdown",
      "source": [
        "You can also use @ to compute the dot product (recommended):"
      ],
      "metadata": {
        "id": "3TOX-9SsmBUB"
      }
    },
    {
      "cell_type": "code",
      "source": [
        "dot_product = a @ b\n",
        "print(dot_product)"
      ],
      "metadata": {
        "colab": {
          "base_uri": "https://localhost:8080/"
        },
        "id": "bdazuXxUlit4",
        "outputId": "ee7c86df-8314-4a50-b9ab-86a9f9d6c523"
      },
      "execution_count": 29,
      "outputs": [
        {
          "output_type": "stream",
          "name": "stdout",
          "text": [
            "32\n"
          ]
        }
      ]
    },
    {
      "cell_type": "markdown",
      "source": [
        "✅ 3. Cross Product (in 3D space)\n",
        "\n",
        "\n",
        "The cross product is only defined for 3-dimensional vectors. It returns a vector that is perpendicular to both input vectors."
      ],
      "metadata": {
        "id": "SoFfPzbvmQxP"
      }
    },
    {
      "cell_type": "code",
      "source": [
        "cross_product = np.cross(a,b)\n",
        "print(cross_product)\n",
        "#"
      ],
      "metadata": {
        "colab": {
          "base_uri": "https://localhost:8080/"
        },
        "id": "WBOUGETMmLWq",
        "outputId": "2a929241-409f-41e8-cade-578856538107"
      },
      "execution_count": 30,
      "outputs": [
        {
          "output_type": "stream",
          "name": "stdout",
          "text": [
            "[-3  6 -3]\n"
          ]
        }
      ]
    },
    {
      "cell_type": "markdown",
      "source": [
        "The result vector is perpendicular to both a and b."
      ],
      "metadata": {
        "id": "1LlQ1C4uojgX"
      }
    },
    {
      "cell_type": "code",
      "source": [],
      "metadata": {
        "id": "n05Gttq0ofnw"
      },
      "execution_count": null,
      "outputs": []
    }
  ]
}