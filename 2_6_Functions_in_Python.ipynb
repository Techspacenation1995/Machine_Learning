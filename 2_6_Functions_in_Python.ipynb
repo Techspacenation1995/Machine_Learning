{
  "nbformat": 4,
  "nbformat_minor": 0,
  "metadata": {
    "colab": {
      "provenance": [],
      "authorship_tag": "ABX9TyPw4lYVwRhB0OzMKLv+owsc",
      "include_colab_link": true
    },
    "kernelspec": {
      "name": "python3",
      "display_name": "Python 3"
    },
    "language_info": {
      "name": "python"
    }
  },
  "cells": [
    {
      "cell_type": "markdown",
      "metadata": {
        "id": "view-in-github",
        "colab_type": "text"
      },
      "source": [
        "<a href=\"https://colab.research.google.com/github/Techspacenation1995/Machine_Learning/blob/main/2_6_Functions_in_Python.ipynb\" target=\"_parent\"><img src=\"https://colab.research.google.com/assets/colab-badge.svg\" alt=\"Open In Colab\"/></a>"
      ]
    },
    {
      "cell_type": "markdown",
      "source": [
        "#Functions:\n",
        "\n",
        "Function is a block of code that can be resused in a program."
      ],
      "metadata": {
        "id": "Hvqn2YC_5sez"
      }
    },
    {
      "cell_type": "markdown",
      "source": [
        "#Factorial of a number\n",
        "\n",
        "This is a  product of all the positive integers less than or equal to the given number\n",
        "\n",
        "Factorial of 5 = 5 x 4 x 3 x 2 x 1 = 120"
      ],
      "metadata": {
        "id": "Lpo2BpAC6CjL"
      }
    },
    {
      "cell_type": "code",
      "execution_count": null,
      "metadata": {
        "colab": {
          "base_uri": "https://localhost:8080/"
        },
        "id": "RH6gJdOL5fJB",
        "outputId": "7d79af69-1fcb-41c0-bced-5b56292c7fa0"
      },
      "outputs": [
        {
          "output_type": "stream",
          "name": "stdout",
          "text": [
            "Enter a number to find its factorial: 5\n",
            "The factorial of 5 is 120\n"
          ]
        }
      ],
      "source": [
        "number = int(input(\"Enter a number to find its factorial: \"))\n",
        "\n",
        "factorial = 1\n",
        "\n",
        "if number == 0:\n",
        "  print(\"The factorial of 0 is 1\")\n",
        "\n",
        "else:\n",
        "  for i in range(1, number + 1):\n",
        "    factorial = factorial * i\n",
        "  print(\"The factorial of\", number, \"is\", factorial)"
      ]
    },
    {
      "cell_type": "markdown",
      "source": [
        "Factorial Function"
      ],
      "metadata": {
        "id": "8ovk_-1rmiDK"
      }
    },
    {
      "cell_type": "code",
      "source": [
        "def factorial_value(num):\n",
        "  factorial = 1\n",
        "  if num == 0:\n",
        "    return factorial\n",
        "  else:\n",
        "    for i in range(1, num + 1):\n",
        "      factorial = factorial * i\n",
        "    return factorial"
      ],
      "metadata": {
        "id": "z4q6FqSHmfzP"
      },
      "execution_count": null,
      "outputs": []
    },
    {
      "cell_type": "code",
      "source": [
        "print(factorial_value(5))"
      ],
      "metadata": {
        "colab": {
          "base_uri": "https://localhost:8080/"
        },
        "id": "5dLnfEwJqyqC",
        "outputId": "a005515e-974f-4db0-94d9-8b5223a83595"
      },
      "execution_count": null,
      "outputs": [
        {
          "output_type": "stream",
          "name": "stdout",
          "text": [
            "120\n"
          ]
        }
      ]
    },
    {
      "cell_type": "code",
      "source": [],
      "metadata": {
        "id": "-xOi7fUKq5if"
      },
      "execution_count": null,
      "outputs": []
    }
  ]
}